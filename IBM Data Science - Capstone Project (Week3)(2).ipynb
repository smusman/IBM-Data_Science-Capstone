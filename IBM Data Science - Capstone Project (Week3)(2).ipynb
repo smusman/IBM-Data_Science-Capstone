{
 "cells": [
  {
   "cell_type": "markdown",
   "metadata": {},
   "source": [
    "# Scraping Wikipedia Page\n",
    "https://en.wikipedia.org/wiki/List_of_postal_codes_of_Canada:_M"
   ]
  },
  {
   "cell_type": "code",
   "execution_count": 1,
   "metadata": {},
   "outputs": [],
   "source": [
    "import pandas as pd\n",
    "import requests\n",
    "from bs4 import BeautifulSoup"
   ]
  },
  {
   "cell_type": "code",
   "execution_count": 2,
   "metadata": {},
   "outputs": [],
   "source": [
    "website_url = requests.get('https://en.wikipedia.org/wiki/List_of_postal_codes_of_Canada:_M').text\n",
    "\n",
    "soup = BeautifulSoup(website_url,'lxml')"
   ]
  },
  {
   "cell_type": "markdown",
   "metadata": {},
   "source": [
    "### Scraping table from wikipedia"
   ]
  },
  {
   "cell_type": "code",
   "execution_count": 3,
   "metadata": {},
   "outputs": [],
   "source": [
    "table = soup.find('table',{'class':'wikitable sortable'})"
   ]
  },
  {
   "cell_type": "code",
   "execution_count": 4,
   "metadata": {},
   "outputs": [],
   "source": [
    "A=[]\n",
    "B=[]\n",
    "C=[]\n",
    "\n",
    "for row in table.findAll('tr'):\n",
    "    cells = row.findAll('td')\n",
    "    if len(cells)==3:\n",
    "        A.append(cells[0].find(text=True))\n",
    "        B.append(cells[1].find(text=True))\n",
    "        C.append(cells[2].find(text=True))\n"
   ]
  },
  {
   "cell_type": "code",
   "execution_count": 5,
   "metadata": {},
   "outputs": [],
   "source": [
    "df=pd.DataFrame()\n",
    "df['Postcode']=A\n",
    "df['Borough']=B\n",
    "df['Neighbourhood']=C"
   ]
  },
  {
   "cell_type": "code",
   "execution_count": 6,
   "metadata": {},
   "outputs": [
    {
     "data": {
      "text/html": [
       "<div>\n",
       "<style scoped>\n",
       "    .dataframe tbody tr th:only-of-type {\n",
       "        vertical-align: middle;\n",
       "    }\n",
       "\n",
       "    .dataframe tbody tr th {\n",
       "        vertical-align: top;\n",
       "    }\n",
       "\n",
       "    .dataframe thead th {\n",
       "        text-align: right;\n",
       "    }\n",
       "</style>\n",
       "<table border=\"1\" class=\"dataframe\">\n",
       "  <thead>\n",
       "    <tr style=\"text-align: right;\">\n",
       "      <th></th>\n",
       "      <th>Postcode</th>\n",
       "      <th>Borough</th>\n",
       "      <th>Neighbourhood</th>\n",
       "    </tr>\n",
       "  </thead>\n",
       "  <tbody>\n",
       "    <tr>\n",
       "      <th>0</th>\n",
       "      <td>M1A</td>\n",
       "      <td>Not assigned</td>\n",
       "      <td>Not assigned</td>\n",
       "    </tr>\n",
       "    <tr>\n",
       "      <th>1</th>\n",
       "      <td>M2A</td>\n",
       "      <td>Not assigned</td>\n",
       "      <td>Not assigned</td>\n",
       "    </tr>\n",
       "    <tr>\n",
       "      <th>2</th>\n",
       "      <td>M3A</td>\n",
       "      <td>North York</td>\n",
       "      <td>Parkwoods</td>\n",
       "    </tr>\n",
       "    <tr>\n",
       "      <th>3</th>\n",
       "      <td>M4A</td>\n",
       "      <td>North York</td>\n",
       "      <td>Victoria Village</td>\n",
       "    </tr>\n",
       "    <tr>\n",
       "      <th>4</th>\n",
       "      <td>M5A</td>\n",
       "      <td>Downtown Toronto</td>\n",
       "      <td>Harbourfront</td>\n",
       "    </tr>\n",
       "  </tbody>\n",
       "</table>\n",
       "</div>"
      ],
      "text/plain": [
       "  Postcode           Borough     Neighbourhood\n",
       "0      M1A      Not assigned     Not assigned\n",
       "\n",
       "1      M2A      Not assigned     Not assigned\n",
       "\n",
       "2      M3A        North York         Parkwoods\n",
       "3      M4A        North York  Victoria Village\n",
       "4      M5A  Downtown Toronto      Harbourfront"
      ]
     },
     "execution_count": 6,
     "metadata": {},
     "output_type": "execute_result"
    }
   ],
   "source": [
    "df.head()"
   ]
  },
  {
   "cell_type": "markdown",
   "metadata": {},
   "source": [
    "### Ignoring cells with not assigned values"
   ]
  },
  {
   "cell_type": "code",
   "execution_count": 7,
   "metadata": {},
   "outputs": [],
   "source": [
    "df1=df[df.Borough != 'Not assigned']"
   ]
  },
  {
   "cell_type": "code",
   "execution_count": 8,
   "metadata": {},
   "outputs": [],
   "source": [
    "df1=df1.reset_index(drop=True)"
   ]
  },
  {
   "cell_type": "code",
   "execution_count": 9,
   "metadata": {},
   "outputs": [
    {
     "data": {
      "text/html": [
       "<div>\n",
       "<style scoped>\n",
       "    .dataframe tbody tr th:only-of-type {\n",
       "        vertical-align: middle;\n",
       "    }\n",
       "\n",
       "    .dataframe tbody tr th {\n",
       "        vertical-align: top;\n",
       "    }\n",
       "\n",
       "    .dataframe thead th {\n",
       "        text-align: right;\n",
       "    }\n",
       "</style>\n",
       "<table border=\"1\" class=\"dataframe\">\n",
       "  <thead>\n",
       "    <tr style=\"text-align: right;\">\n",
       "      <th></th>\n",
       "      <th>Postcode</th>\n",
       "      <th>Borough</th>\n",
       "      <th>Neighbourhood</th>\n",
       "    </tr>\n",
       "  </thead>\n",
       "  <tbody>\n",
       "    <tr>\n",
       "      <th>0</th>\n",
       "      <td>M3A</td>\n",
       "      <td>North York</td>\n",
       "      <td>Parkwoods</td>\n",
       "    </tr>\n",
       "    <tr>\n",
       "      <th>1</th>\n",
       "      <td>M4A</td>\n",
       "      <td>North York</td>\n",
       "      <td>Victoria Village</td>\n",
       "    </tr>\n",
       "    <tr>\n",
       "      <th>2</th>\n",
       "      <td>M5A</td>\n",
       "      <td>Downtown Toronto</td>\n",
       "      <td>Harbourfront</td>\n",
       "    </tr>\n",
       "    <tr>\n",
       "      <th>3</th>\n",
       "      <td>M6A</td>\n",
       "      <td>North York</td>\n",
       "      <td>Lawrence Heights</td>\n",
       "    </tr>\n",
       "    <tr>\n",
       "      <th>4</th>\n",
       "      <td>M6A</td>\n",
       "      <td>North York</td>\n",
       "      <td>Lawrence Manor</td>\n",
       "    </tr>\n",
       "  </tbody>\n",
       "</table>\n",
       "</div>"
      ],
      "text/plain": [
       "  Postcode           Borough     Neighbourhood\n",
       "0      M3A        North York         Parkwoods\n",
       "1      M4A        North York  Victoria Village\n",
       "2      M5A  Downtown Toronto      Harbourfront\n",
       "3      M6A        North York  Lawrence Heights\n",
       "4      M6A        North York    Lawrence Manor"
      ]
     },
     "execution_count": 9,
     "metadata": {},
     "output_type": "execute_result"
    }
   ],
   "source": [
    "df1.head()"
   ]
  },
  {
   "cell_type": "markdown",
   "metadata": {},
   "source": [
    "### Merging Neighbourhood with same Postcode"
   ]
  },
  {
   "cell_type": "code",
   "execution_count": 10,
   "metadata": {},
   "outputs": [],
   "source": [
    "index_cols = df1.columns.tolist()\n",
    "index_cols.remove(\"Neighbourhood\")\n",
    "df2=df1.groupby(index_cols)[\"Neighbourhood\"].apply(list)\n",
    "df2=df2.reset_index()"
   ]
  },
  {
   "cell_type": "code",
   "execution_count": 11,
   "metadata": {},
   "outputs": [],
   "source": [
    "Neighbourhood=[]\n",
    "for i in range(103):\n",
    "    s=df2['Neighbourhood'][i]\n",
    "    line = ', '.join([str(elem) for elem in s]).replace('\\n','')\n",
    "    Neighbourhood.append(line)"
   ]
  },
  {
   "cell_type": "code",
   "execution_count": 12,
   "metadata": {},
   "outputs": [],
   "source": [
    "df2['Neighbourhood']=Neighbourhood"
   ]
  },
  {
   "cell_type": "code",
   "execution_count": 13,
   "metadata": {},
   "outputs": [
    {
     "data": {
      "text/html": [
       "<div>\n",
       "<style scoped>\n",
       "    .dataframe tbody tr th:only-of-type {\n",
       "        vertical-align: middle;\n",
       "    }\n",
       "\n",
       "    .dataframe tbody tr th {\n",
       "        vertical-align: top;\n",
       "    }\n",
       "\n",
       "    .dataframe thead th {\n",
       "        text-align: right;\n",
       "    }\n",
       "</style>\n",
       "<table border=\"1\" class=\"dataframe\">\n",
       "  <thead>\n",
       "    <tr style=\"text-align: right;\">\n",
       "      <th></th>\n",
       "      <th>Postcode</th>\n",
       "      <th>Borough</th>\n",
       "      <th>Neighbourhood</th>\n",
       "    </tr>\n",
       "  </thead>\n",
       "  <tbody>\n",
       "    <tr>\n",
       "      <th>0</th>\n",
       "      <td>M1B</td>\n",
       "      <td>Scarborough</td>\n",
       "      <td>Rouge, Malvern</td>\n",
       "    </tr>\n",
       "    <tr>\n",
       "      <th>1</th>\n",
       "      <td>M1C</td>\n",
       "      <td>Scarborough</td>\n",
       "      <td>Highland Creek, Rouge Hill, Port Union</td>\n",
       "    </tr>\n",
       "    <tr>\n",
       "      <th>2</th>\n",
       "      <td>M1E</td>\n",
       "      <td>Scarborough</td>\n",
       "      <td>Guildwood, Morningside, West Hill</td>\n",
       "    </tr>\n",
       "    <tr>\n",
       "      <th>3</th>\n",
       "      <td>M1G</td>\n",
       "      <td>Scarborough</td>\n",
       "      <td>Woburn</td>\n",
       "    </tr>\n",
       "    <tr>\n",
       "      <th>4</th>\n",
       "      <td>M1H</td>\n",
       "      <td>Scarborough</td>\n",
       "      <td>Cedarbrae</td>\n",
       "    </tr>\n",
       "    <tr>\n",
       "      <th>5</th>\n",
       "      <td>M1J</td>\n",
       "      <td>Scarborough</td>\n",
       "      <td>Scarborough Village</td>\n",
       "    </tr>\n",
       "  </tbody>\n",
       "</table>\n",
       "</div>"
      ],
      "text/plain": [
       "  Postcode      Borough                           Neighbourhood\n",
       "0      M1B  Scarborough                          Rouge, Malvern\n",
       "1      M1C  Scarborough  Highland Creek, Rouge Hill, Port Union\n",
       "2      M1E  Scarborough       Guildwood, Morningside, West Hill\n",
       "3      M1G  Scarborough                                  Woburn\n",
       "4      M1H  Scarborough                               Cedarbrae\n",
       "5      M1J  Scarborough                     Scarborough Village"
      ]
     },
     "execution_count": 13,
     "metadata": {},
     "output_type": "execute_result"
    }
   ],
   "source": [
    "df2.head(6)"
   ]
  },
  {
   "cell_type": "markdown",
   "metadata": {},
   "source": [
    "### 'Not assigned' Neighbourhood to corresponding Borough"
   ]
  },
  {
   "cell_type": "code",
   "execution_count": 14,
   "metadata": {},
   "outputs": [],
   "source": [
    "df2.Neighbourhood[df2.Neighbourhood == 'Not assigned']=df2.Borough[df2.Neighbourhood == 'Not assigned']"
   ]
  },
  {
   "cell_type": "markdown",
   "metadata": {},
   "source": [
    "### Required Dataframe and it's Shape"
   ]
  },
  {
   "cell_type": "code",
   "execution_count": 15,
   "metadata": {},
   "outputs": [
    {
     "data": {
      "text/html": [
       "<div>\n",
       "<style scoped>\n",
       "    .dataframe tbody tr th:only-of-type {\n",
       "        vertical-align: middle;\n",
       "    }\n",
       "\n",
       "    .dataframe tbody tr th {\n",
       "        vertical-align: top;\n",
       "    }\n",
       "\n",
       "    .dataframe thead th {\n",
       "        text-align: right;\n",
       "    }\n",
       "</style>\n",
       "<table border=\"1\" class=\"dataframe\">\n",
       "  <thead>\n",
       "    <tr style=\"text-align: right;\">\n",
       "      <th></th>\n",
       "      <th>Postcode</th>\n",
       "      <th>Borough</th>\n",
       "      <th>Neighbourhood</th>\n",
       "    </tr>\n",
       "  </thead>\n",
       "  <tbody>\n",
       "    <tr>\n",
       "      <th>0</th>\n",
       "      <td>M1B</td>\n",
       "      <td>Scarborough</td>\n",
       "      <td>Rouge, Malvern</td>\n",
       "    </tr>\n",
       "    <tr>\n",
       "      <th>1</th>\n",
       "      <td>M1C</td>\n",
       "      <td>Scarborough</td>\n",
       "      <td>Highland Creek, Rouge Hill, Port Union</td>\n",
       "    </tr>\n",
       "    <tr>\n",
       "      <th>2</th>\n",
       "      <td>M1E</td>\n",
       "      <td>Scarborough</td>\n",
       "      <td>Guildwood, Morningside, West Hill</td>\n",
       "    </tr>\n",
       "    <tr>\n",
       "      <th>3</th>\n",
       "      <td>M1G</td>\n",
       "      <td>Scarborough</td>\n",
       "      <td>Woburn</td>\n",
       "    </tr>\n",
       "    <tr>\n",
       "      <th>4</th>\n",
       "      <td>M1H</td>\n",
       "      <td>Scarborough</td>\n",
       "      <td>Cedarbrae</td>\n",
       "    </tr>\n",
       "    <tr>\n",
       "      <th>5</th>\n",
       "      <td>M1J</td>\n",
       "      <td>Scarborough</td>\n",
       "      <td>Scarborough Village</td>\n",
       "    </tr>\n",
       "  </tbody>\n",
       "</table>\n",
       "</div>"
      ],
      "text/plain": [
       "  Postcode      Borough                           Neighbourhood\n",
       "0      M1B  Scarborough                          Rouge, Malvern\n",
       "1      M1C  Scarborough  Highland Creek, Rouge Hill, Port Union\n",
       "2      M1E  Scarborough       Guildwood, Morningside, West Hill\n",
       "3      M1G  Scarborough                                  Woburn\n",
       "4      M1H  Scarborough                               Cedarbrae\n",
       "5      M1J  Scarborough                     Scarborough Village"
      ]
     },
     "execution_count": 15,
     "metadata": {},
     "output_type": "execute_result"
    }
   ],
   "source": [
    "df2.head(6)"
   ]
  },
  {
   "cell_type": "code",
   "execution_count": 16,
   "metadata": {},
   "outputs": [
    {
     "data": {
      "text/plain": [
       "(103, 3)"
      ]
     },
     "execution_count": 16,
     "metadata": {},
     "output_type": "execute_result"
    }
   ],
   "source": [
    "df2.shape"
   ]
  },
  {
   "cell_type": "markdown",
   "metadata": {},
   "source": [
    "### Adding Latitude and Longitudes"
   ]
  },
  {
   "cell_type": "code",
   "execution_count": 17,
   "metadata": {},
   "outputs": [
    {
     "data": {
      "text/html": [
       "<div>\n",
       "<style scoped>\n",
       "    .dataframe tbody tr th:only-of-type {\n",
       "        vertical-align: middle;\n",
       "    }\n",
       "\n",
       "    .dataframe tbody tr th {\n",
       "        vertical-align: top;\n",
       "    }\n",
       "\n",
       "    .dataframe thead th {\n",
       "        text-align: right;\n",
       "    }\n",
       "</style>\n",
       "<table border=\"1\" class=\"dataframe\">\n",
       "  <thead>\n",
       "    <tr style=\"text-align: right;\">\n",
       "      <th></th>\n",
       "      <th>Postcode</th>\n",
       "      <th>Borough</th>\n",
       "      <th>Neighbourhood</th>\n",
       "    </tr>\n",
       "  </thead>\n",
       "  <tbody>\n",
       "    <tr>\n",
       "      <th>0</th>\n",
       "      <td>M1B</td>\n",
       "      <td>Scarborough</td>\n",
       "      <td>Rouge, Malvern</td>\n",
       "    </tr>\n",
       "    <tr>\n",
       "      <th>1</th>\n",
       "      <td>M1C</td>\n",
       "      <td>Scarborough</td>\n",
       "      <td>Highland Creek, Rouge Hill, Port Union</td>\n",
       "    </tr>\n",
       "    <tr>\n",
       "      <th>2</th>\n",
       "      <td>M1E</td>\n",
       "      <td>Scarborough</td>\n",
       "      <td>Guildwood, Morningside, West Hill</td>\n",
       "    </tr>\n",
       "    <tr>\n",
       "      <th>3</th>\n",
       "      <td>M1G</td>\n",
       "      <td>Scarborough</td>\n",
       "      <td>Woburn</td>\n",
       "    </tr>\n",
       "    <tr>\n",
       "      <th>4</th>\n",
       "      <td>M1H</td>\n",
       "      <td>Scarborough</td>\n",
       "      <td>Cedarbrae</td>\n",
       "    </tr>\n",
       "  </tbody>\n",
       "</table>\n",
       "</div>"
      ],
      "text/plain": [
       "  Postcode      Borough                           Neighbourhood\n",
       "0      M1B  Scarborough                          Rouge, Malvern\n",
       "1      M1C  Scarborough  Highland Creek, Rouge Hill, Port Union\n",
       "2      M1E  Scarborough       Guildwood, Morningside, West Hill\n",
       "3      M1G  Scarborough                                  Woburn\n",
       "4      M1H  Scarborough                               Cedarbrae"
      ]
     },
     "execution_count": 17,
     "metadata": {},
     "output_type": "execute_result"
    }
   ],
   "source": [
    "df2.head()"
   ]
  },
  {
   "cell_type": "code",
   "execution_count": 18,
   "metadata": {},
   "outputs": [],
   "source": [
    "lat_long=pd.read_csv('Geospatial_Coordinates.csv')"
   ]
  },
  {
   "cell_type": "code",
   "execution_count": 19,
   "metadata": {},
   "outputs": [
    {
     "data": {
      "text/html": [
       "<div>\n",
       "<style scoped>\n",
       "    .dataframe tbody tr th:only-of-type {\n",
       "        vertical-align: middle;\n",
       "    }\n",
       "\n",
       "    .dataframe tbody tr th {\n",
       "        vertical-align: top;\n",
       "    }\n",
       "\n",
       "    .dataframe thead th {\n",
       "        text-align: right;\n",
       "    }\n",
       "</style>\n",
       "<table border=\"1\" class=\"dataframe\">\n",
       "  <thead>\n",
       "    <tr style=\"text-align: right;\">\n",
       "      <th></th>\n",
       "      <th>Postal Code</th>\n",
       "      <th>Latitude</th>\n",
       "      <th>Longitude</th>\n",
       "    </tr>\n",
       "  </thead>\n",
       "  <tbody>\n",
       "    <tr>\n",
       "      <th>0</th>\n",
       "      <td>M1B</td>\n",
       "      <td>43.806686</td>\n",
       "      <td>-79.194353</td>\n",
       "    </tr>\n",
       "    <tr>\n",
       "      <th>1</th>\n",
       "      <td>M1C</td>\n",
       "      <td>43.784535</td>\n",
       "      <td>-79.160497</td>\n",
       "    </tr>\n",
       "    <tr>\n",
       "      <th>2</th>\n",
       "      <td>M1E</td>\n",
       "      <td>43.763573</td>\n",
       "      <td>-79.188711</td>\n",
       "    </tr>\n",
       "    <tr>\n",
       "      <th>3</th>\n",
       "      <td>M1G</td>\n",
       "      <td>43.770992</td>\n",
       "      <td>-79.216917</td>\n",
       "    </tr>\n",
       "    <tr>\n",
       "      <th>4</th>\n",
       "      <td>M1H</td>\n",
       "      <td>43.773136</td>\n",
       "      <td>-79.239476</td>\n",
       "    </tr>\n",
       "  </tbody>\n",
       "</table>\n",
       "</div>"
      ],
      "text/plain": [
       "  Postal Code   Latitude  Longitude\n",
       "0         M1B  43.806686 -79.194353\n",
       "1         M1C  43.784535 -79.160497\n",
       "2         M1E  43.763573 -79.188711\n",
       "3         M1G  43.770992 -79.216917\n",
       "4         M1H  43.773136 -79.239476"
      ]
     },
     "execution_count": 19,
     "metadata": {},
     "output_type": "execute_result"
    }
   ],
   "source": [
    "lat_long.head()"
   ]
  },
  {
   "cell_type": "code",
   "execution_count": 20,
   "metadata": {},
   "outputs": [],
   "source": [
    "df2['Latitude']=lat_long['Latitude']\n",
    "df2['Longitude']=lat_long['Longitude']"
   ]
  },
  {
   "cell_type": "markdown",
   "metadata": {},
   "source": [
    "### Final DataFrame"
   ]
  },
  {
   "cell_type": "code",
   "execution_count": 21,
   "metadata": {},
   "outputs": [
    {
     "data": {
      "text/html": [
       "<div>\n",
       "<style scoped>\n",
       "    .dataframe tbody tr th:only-of-type {\n",
       "        vertical-align: middle;\n",
       "    }\n",
       "\n",
       "    .dataframe tbody tr th {\n",
       "        vertical-align: top;\n",
       "    }\n",
       "\n",
       "    .dataframe thead th {\n",
       "        text-align: right;\n",
       "    }\n",
       "</style>\n",
       "<table border=\"1\" class=\"dataframe\">\n",
       "  <thead>\n",
       "    <tr style=\"text-align: right;\">\n",
       "      <th></th>\n",
       "      <th>Postcode</th>\n",
       "      <th>Borough</th>\n",
       "      <th>Neighbourhood</th>\n",
       "      <th>Latitude</th>\n",
       "      <th>Longitude</th>\n",
       "    </tr>\n",
       "  </thead>\n",
       "  <tbody>\n",
       "    <tr>\n",
       "      <th>0</th>\n",
       "      <td>M1B</td>\n",
       "      <td>Scarborough</td>\n",
       "      <td>Rouge, Malvern</td>\n",
       "      <td>43.806686</td>\n",
       "      <td>-79.194353</td>\n",
       "    </tr>\n",
       "    <tr>\n",
       "      <th>1</th>\n",
       "      <td>M1C</td>\n",
       "      <td>Scarborough</td>\n",
       "      <td>Highland Creek, Rouge Hill, Port Union</td>\n",
       "      <td>43.784535</td>\n",
       "      <td>-79.160497</td>\n",
       "    </tr>\n",
       "    <tr>\n",
       "      <th>2</th>\n",
       "      <td>M1E</td>\n",
       "      <td>Scarborough</td>\n",
       "      <td>Guildwood, Morningside, West Hill</td>\n",
       "      <td>43.763573</td>\n",
       "      <td>-79.188711</td>\n",
       "    </tr>\n",
       "    <tr>\n",
       "      <th>3</th>\n",
       "      <td>M1G</td>\n",
       "      <td>Scarborough</td>\n",
       "      <td>Woburn</td>\n",
       "      <td>43.770992</td>\n",
       "      <td>-79.216917</td>\n",
       "    </tr>\n",
       "    <tr>\n",
       "      <th>4</th>\n",
       "      <td>M1H</td>\n",
       "      <td>Scarborough</td>\n",
       "      <td>Cedarbrae</td>\n",
       "      <td>43.773136</td>\n",
       "      <td>-79.239476</td>\n",
       "    </tr>\n",
       "  </tbody>\n",
       "</table>\n",
       "</div>"
      ],
      "text/plain": [
       "  Postcode      Borough                           Neighbourhood   Latitude  \\\n",
       "0      M1B  Scarborough                          Rouge, Malvern  43.806686   \n",
       "1      M1C  Scarborough  Highland Creek, Rouge Hill, Port Union  43.784535   \n",
       "2      M1E  Scarborough       Guildwood, Morningside, West Hill  43.763573   \n",
       "3      M1G  Scarborough                                  Woburn  43.770992   \n",
       "4      M1H  Scarborough                               Cedarbrae  43.773136   \n",
       "\n",
       "   Longitude  \n",
       "0 -79.194353  \n",
       "1 -79.160497  \n",
       "2 -79.188711  \n",
       "3 -79.216917  \n",
       "4 -79.239476  "
      ]
     },
     "execution_count": 21,
     "metadata": {},
     "output_type": "execute_result"
    }
   ],
   "source": [
    "df2.head()"
   ]
  },
  {
   "cell_type": "markdown",
   "metadata": {},
   "source": [
    "### Plotting the Neighbourhoods on map"
   ]
  },
  {
   "cell_type": "code",
   "execution_count": 22,
   "metadata": {},
   "outputs": [],
   "source": [
    "import folium "
   ]
  },
  {
   "cell_type": "code",
   "execution_count": 23,
   "metadata": {},
   "outputs": [],
   "source": [
    "canada_map = folium.Map(location=[43.651070, -79.347015], zoom_start=11)"
   ]
  },
  {
   "cell_type": "code",
   "execution_count": 24,
   "metadata": {},
   "outputs": [
    {
     "data": {
      "text/html": [
       "<div style=\"width:100%;\"><div style=\"position:relative;width:100%;height:0;padding-bottom:60%;\"><iframe src=\"data:text/html;charset=utf-8;base64,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\" style=\"position:absolute;width:100%;height:100%;left:0;top:0;border:none !important;\" allowfullscreen webkitallowfullscreen mozallowfullscreen></iframe></div></div>"
      ],
      "text/plain": [
       "<folium.folium.Map at 0x1c19fd64208>"
      ]
     },
     "execution_count": 24,
     "metadata": {},
     "output_type": "execute_result"
    }
   ],
   "source": [
    "incidents = folium.map.FeatureGroup()\n",
    "\n",
    "for lat, lng,neigh in zip(df2['Latitude'],df2['Longitude'],df2['Neighbourhood']):\n",
    "    incidents.add_child(\n",
    "        folium.features.Marker(\n",
    "            [lat, lng],\n",
    "            popup=neigh,\n",
    "        )\n",
    "    )\n",
    "\n",
    "# add incidents to map\n",
    "canada_map.add_child(incidents)"
   ]
  },
  {
   "cell_type": "markdown",
   "metadata": {},
   "source": [
    "### Count of Neighbourhoods in each borough"
   ]
  },
  {
   "cell_type": "code",
   "execution_count": 25,
   "metadata": {},
   "outputs": [],
   "source": [
    "from matplotlib import pyplot as plt\n",
    "import seaborn as sns\n",
    "sns.set()"
   ]
  },
  {
   "cell_type": "code",
   "execution_count": 26,
   "metadata": {},
   "outputs": [
    {
     "data": {
      "text/plain": [
       "Text(0.5, 1.0, 'Count of Neighbourhoods in Each Borough')"
      ]
     },
     "execution_count": 26,
     "metadata": {},
     "output_type": "execute_result"
    },
    {
     "data": {
      "image/png": "[encoded data removed]",
      "text/plain": [
       "<Figure size 1296x576 with 1 Axes>"
      ]
     },
     "metadata": {
      "needs_background": "light"
     },
     "output_type": "display_data"
    }
   ],
   "source": [
    "plt.figure(figsize=(18,8))\n",
    "sns.countplot(x=\"Borough\", data=df2).set_title(\"Count of Neighbourhoods in Each Borough\")"
   ]
  }
 ],
 "metadata": {
  "kernelspec": {
   "display_name": "Python 3",
   "language": "python",
   "name": "python3"
  },
  "language_info": {
   "codemirror_mode": {
    "name": "ipython",
    "version": 3
   },
   "file_extension": ".py",
   "mimetype": "text/x-python",
   "name": "python",
   "nbconvert_exporter": "python",
   "pygments_lexer": "ipython3",
   "version": "3.7.3"
  }
 },
 "nbformat": 4,
 "nbformat_minor": 2
}
